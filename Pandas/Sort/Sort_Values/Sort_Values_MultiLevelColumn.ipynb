{
 "cells": [
  {
   "cell_type": "markdown",
   "id": "99fdcd1e",
   "metadata": {},
   "source": [
    "# Target\n",
    "Given an example of a multi-level column dataframe, filter the data with specified conditions and then sort them with ascending / descending order.\n",
    "\n",
    "**Example**"
   ]
  },
  {
   "cell_type": "code",
   "execution_count": 15,
   "id": "97b74a88",
   "metadata": {},
   "outputs": [
    {
     "name": "stderr",
     "output_type": "stream",
     "text": [
      "/var/folders/v3/_yfx_m252q72y7mr8gl65mmm0000gn/T/ipykernel_6302/3252532532.py:12: FutureWarning: pivot_table dropped a column because it failed to aggregate. This behavior is deprecated and will raise in a future version of pandas. Select only the columns that can be aggregated.\n",
      "  df = df.pivot_table(\n"
     ]
    },
    {
     "data": {
      "text/html": [
       "<div>\n",
       "<style scoped>\n",
       "    .dataframe tbody tr th:only-of-type {\n",
       "        vertical-align: middle;\n",
       "    }\n",
       "\n",
       "    .dataframe tbody tr th {\n",
       "        vertical-align: top;\n",
       "    }\n",
       "\n",
       "    .dataframe thead tr th {\n",
       "        text-align: left;\n",
       "    }\n",
       "\n",
       "    .dataframe thead tr:last-of-type th {\n",
       "        text-align: right;\n",
       "    }\n",
       "</style>\n",
       "<table border=\"1\" class=\"dataframe\">\n",
       "  <thead>\n",
       "    <tr>\n",
       "      <th></th>\n",
       "      <th></th>\n",
       "      <th colspan=\"6\" halign=\"left\">country2</th>\n",
       "    </tr>\n",
       "    <tr>\n",
       "      <th></th>\n",
       "      <th>year</th>\n",
       "      <th colspan=\"2\" halign=\"left\">2017</th>\n",
       "      <th colspan=\"2\" halign=\"left\">2018</th>\n",
       "      <th colspan=\"2\" halign=\"left\">2019</th>\n",
       "    </tr>\n",
       "    <tr>\n",
       "      <th></th>\n",
       "      <th>country1</th>\n",
       "      <th>1</th>\n",
       "      <th>2</th>\n",
       "      <th>2</th>\n",
       "      <th>4</th>\n",
       "      <th>3</th>\n",
       "      <th>6</th>\n",
       "    </tr>\n",
       "    <tr>\n",
       "      <th>data_provider</th>\n",
       "      <th>indicator</th>\n",
       "      <th></th>\n",
       "      <th></th>\n",
       "      <th></th>\n",
       "      <th></th>\n",
       "      <th></th>\n",
       "      <th></th>\n",
       "    </tr>\n",
       "  </thead>\n",
       "  <tbody>\n",
       "    <tr>\n",
       "      <th>prov_1</th>\n",
       "      <th>ind_a</th>\n",
       "      <td>4</td>\n",
       "      <td>30</td>\n",
       "      <td>5</td>\n",
       "      <td>30</td>\n",
       "      <td>30</td>\n",
       "      <td>30</td>\n",
       "    </tr>\n",
       "    <tr>\n",
       "      <th rowspan=\"2\" valign=\"top\">prov_2</th>\n",
       "      <th>ind_a</th>\n",
       "      <td>30</td>\n",
       "      <td>30</td>\n",
       "      <td>30</td>\n",
       "      <td>30</td>\n",
       "      <td>6</td>\n",
       "      <td>30</td>\n",
       "    </tr>\n",
       "    <tr>\n",
       "      <th>ind_b</th>\n",
       "      <td>30</td>\n",
       "      <td>40</td>\n",
       "      <td>30</td>\n",
       "      <td>30</td>\n",
       "      <td>30</td>\n",
       "      <td>30</td>\n",
       "    </tr>\n",
       "    <tr>\n",
       "      <th>prov_3</th>\n",
       "      <th>ind_b</th>\n",
       "      <td>30</td>\n",
       "      <td>30</td>\n",
       "      <td>30</td>\n",
       "      <td>50</td>\n",
       "      <td>30</td>\n",
       "      <td>60</td>\n",
       "    </tr>\n",
       "  </tbody>\n",
       "</table>\n",
       "</div>"
      ],
      "text/plain": [
       "                        country2                      \n",
       "year                        2017     2018     2019    \n",
       "country1                       1   2    2   4    3   6\n",
       "data_provider indicator                               \n",
       "prov_1        ind_a            4  30    5  30   30  30\n",
       "prov_2        ind_a           30  30   30  30    6  30\n",
       "              ind_b           30  40   30  30   30  30\n",
       "prov_3        ind_b           30  30   30  50   30  60"
      ]
     },
     "execution_count": 15,
     "metadata": {},
     "output_type": "execute_result"
    }
   ],
   "source": [
    "import pandas as pd\n",
    "\n",
    "df = pd.DataFrame(\n",
    "    data={\"data_provider\": [\"prov_1\", \"prov_1\", \"prov_2\", \"prov_2\", \"prov_3\", \"prov_3\"],\n",
    "          \"indicator\": [\"ind_a\", \"ind_a\", \"ind_a\", \"ind_b\", \"ind_b\", \"ind_b\"],\n",
    "          \"unit\": [\"EUR\", \"EUR\", \"EUR\", \"EUR\", \"EUR\", \"EUR\"],\n",
    "          \"year\": [\"2017\", \"2018\",\"2019\", \"2017\",\"2018\",\"2019\"],\n",
    "          \"country1\": [1, 2, 3, 2, 4, 6],\n",
    "          \"country2\": [4, 5, 6, 40, 50, 60]}\n",
    ")\n",
    "\n",
    "df = df.pivot_table(\n",
    "    index=['data_provider', 'indicator'],\n",
    "    columns=['year', 'country1'],\n",
    "    fill_value=30)\n",
    "\n",
    "df"
   ]
  },
  {
   "cell_type": "markdown",
   "id": "9ba49b66",
   "metadata": {},
   "source": [
    "1.1 columns and any other related info"
   ]
  },
  {
   "cell_type": "markdown",
   "id": "82eebe91",
   "metadata": {},
   "source": [
    "⬇ column labels"
   ]
  },
  {
   "cell_type": "code",
   "execution_count": 16,
   "id": "19fcc410",
   "metadata": {},
   "outputs": [
    {
     "data": {
      "text/plain": [
       "MultiIndex([('country2', '2017', 1),\n",
       "            ('country2', '2017', 2),\n",
       "            ('country2', '2018', 2),\n",
       "            ('country2', '2018', 4),\n",
       "            ('country2', '2019', 3),\n",
       "            ('country2', '2019', 6)],\n",
       "           names=[None, 'year', 'country1'])"
      ]
     },
     "execution_count": 16,
     "metadata": {},
     "output_type": "execute_result"
    }
   ],
   "source": [
    "df.columns"
   ]
  },
  {
   "cell_type": "markdown",
   "id": "d2f22946",
   "metadata": {},
   "source": [
    "⬇ column levels"
   ]
  },
  {
   "cell_type": "code",
   "execution_count": 17,
   "id": "145b077e",
   "metadata": {},
   "outputs": [
    {
     "data": {
      "text/plain": [
       "3"
      ]
     },
     "execution_count": 17,
     "metadata": {},
     "output_type": "execute_result"
    }
   ],
   "source": [
    "df.columns.nlevels"
   ]
  },
  {
   "cell_type": "markdown",
   "id": "4444688d",
   "metadata": {},
   "source": [
    "⬇ column names"
   ]
  },
  {
   "cell_type": "code",
   "execution_count": 18,
   "id": "30cdfed8",
   "metadata": {},
   "outputs": [
    {
     "data": {
      "text/plain": [
       "FrozenList([None, 'year', 'country1'])"
      ]
     },
     "execution_count": 18,
     "metadata": {},
     "output_type": "execute_result"
    }
   ],
   "source": [
    "df.columns.names"
   ]
  },
  {
   "cell_type": "markdown",
   "id": "e07360c4",
   "metadata": {},
   "source": [
    "1.2 indexes and any other related info"
   ]
  },
  {
   "cell_type": "markdown",
   "id": "dcf1fdb6",
   "metadata": {},
   "source": [
    "⬇ index"
   ]
  },
  {
   "cell_type": "code",
   "execution_count": 19,
   "id": "4a268ec1",
   "metadata": {},
   "outputs": [
    {
     "data": {
      "text/plain": [
       "MultiIndex([('prov_1', 'ind_a'),\n",
       "            ('prov_2', 'ind_a'),\n",
       "            ('prov_2', 'ind_b'),\n",
       "            ('prov_3', 'ind_b')],\n",
       "           names=['data_provider', 'indicator'])"
      ]
     },
     "execution_count": 19,
     "metadata": {},
     "output_type": "execute_result"
    }
   ],
   "source": [
    "df.index"
   ]
  },
  {
   "cell_type": "markdown",
   "id": "f6d29695",
   "metadata": {},
   "source": [
    "⬇ index levels"
   ]
  },
  {
   "cell_type": "code",
   "execution_count": 20,
   "id": "bab69e90",
   "metadata": {},
   "outputs": [
    {
     "data": {
      "text/plain": [
       "2"
      ]
     },
     "execution_count": 20,
     "metadata": {},
     "output_type": "execute_result"
    }
   ],
   "source": [
    "df.index.nlevels"
   ]
  },
  {
   "cell_type": "markdown",
   "id": "d9f8f566",
   "metadata": {},
   "source": [
    "⬇ index names"
   ]
  },
  {
   "cell_type": "code",
   "execution_count": 21,
   "id": "87c287a5",
   "metadata": {},
   "outputs": [
    {
     "data": {
      "text/plain": [
       "FrozenList(['data_provider', 'indicator'])"
      ]
     },
     "execution_count": 21,
     "metadata": {},
     "output_type": "execute_result"
    }
   ],
   "source": [
    "df.index.names"
   ]
  },
  {
   "cell_type": "markdown",
   "id": "62f54dce",
   "metadata": {},
   "source": [
    "# Filter"
   ]
  },
  {
   "cell_type": "markdown",
   "id": "29f2f25c",
   "metadata": {},
   "source": [
    "2.1 get the level number where column labels' name is `country1`"
   ]
  },
  {
   "cell_type": "code",
   "execution_count": 22,
   "id": "19f49ea7",
   "metadata": {},
   "outputs": [
    {
     "data": {
      "text/plain": [
       "2"
      ]
     },
     "execution_count": 22,
     "metadata": {},
     "output_type": "execute_result"
    }
   ],
   "source": [
    "collev = df.columns._get_level_number(level='country1')\n",
    "collev"
   ]
  },
  {
   "cell_type": "markdown",
   "id": "d454d723",
   "metadata": {},
   "source": [
    "2.2 get the column labels where `country1` is `2`"
   ]
  },
  {
   "cell_type": "code",
   "execution_count": 23,
   "id": "3f4c49db",
   "metadata": {},
   "outputs": [
    {
     "data": {
      "text/plain": [
       "MultiIndex([('country2', '2017', 2),\n",
       "            ('country2', '2018', 2)],\n",
       "           names=[None, 'year', 'country1'])"
      ]
     },
     "execution_count": 23,
     "metadata": {},
     "output_type": "execute_result"
    }
   ],
   "source": [
    "collabels = df.columns[df.columns.get_level_values(level=collev)==2]\n",
    "collabels"
   ]
  },
  {
   "cell_type": "markdown",
   "id": "883cdf54",
   "metadata": {},
   "source": [
    "2.3 set conditions for filtering the data"
   ]
  },
  {
   "cell_type": "code",
   "execution_count": 24,
   "id": "d039243d",
   "metadata": {},
   "outputs": [
    {
     "data": {
      "text/plain": [
       "('country2', '2017', 2)"
      ]
     },
     "execution_count": 24,
     "metadata": {},
     "output_type": "execute_result"
    }
   ],
   "source": [
    "collabels[0]"
   ]
  },
  {
   "cell_type": "code",
   "execution_count": 25,
   "id": "9c495ec1",
   "metadata": {},
   "outputs": [
    {
     "data": {
      "text/plain": [
       "data_provider  indicator\n",
       "prov_1         ind_a         True\n",
       "prov_2         ind_a         True\n",
       "               ind_b        False\n",
       "prov_3         ind_b         True\n",
       "dtype: bool"
      ]
     },
     "execution_count": 25,
     "metadata": {},
     "output_type": "execute_result"
    }
   ],
   "source": [
    "condition = (df[collabels[0]] <= 30) & (df[collabels[1]] <= 30)\n",
    "condition"
   ]
  },
  {
   "cell_type": "code",
   "execution_count": 26,
   "id": "c87172ef",
   "metadata": {},
   "outputs": [
    {
     "data": {
      "text/html": [
       "<div>\n",
       "<style scoped>\n",
       "    .dataframe tbody tr th:only-of-type {\n",
       "        vertical-align: middle;\n",
       "    }\n",
       "\n",
       "    .dataframe tbody tr th {\n",
       "        vertical-align: top;\n",
       "    }\n",
       "\n",
       "    .dataframe thead tr th {\n",
       "        text-align: left;\n",
       "    }\n",
       "\n",
       "    .dataframe thead tr:last-of-type th {\n",
       "        text-align: right;\n",
       "    }\n",
       "</style>\n",
       "<table border=\"1\" class=\"dataframe\">\n",
       "  <thead>\n",
       "    <tr>\n",
       "      <th></th>\n",
       "      <th></th>\n",
       "      <th colspan=\"6\" halign=\"left\">country2</th>\n",
       "    </tr>\n",
       "    <tr>\n",
       "      <th></th>\n",
       "      <th>year</th>\n",
       "      <th colspan=\"2\" halign=\"left\">2017</th>\n",
       "      <th colspan=\"2\" halign=\"left\">2018</th>\n",
       "      <th colspan=\"2\" halign=\"left\">2019</th>\n",
       "    </tr>\n",
       "    <tr>\n",
       "      <th></th>\n",
       "      <th>country1</th>\n",
       "      <th>1</th>\n",
       "      <th>2</th>\n",
       "      <th>2</th>\n",
       "      <th>4</th>\n",
       "      <th>3</th>\n",
       "      <th>6</th>\n",
       "    </tr>\n",
       "    <tr>\n",
       "      <th>data_provider</th>\n",
       "      <th>indicator</th>\n",
       "      <th></th>\n",
       "      <th></th>\n",
       "      <th></th>\n",
       "      <th></th>\n",
       "      <th></th>\n",
       "      <th></th>\n",
       "    </tr>\n",
       "  </thead>\n",
       "  <tbody>\n",
       "    <tr>\n",
       "      <th>prov_1</th>\n",
       "      <th>ind_a</th>\n",
       "      <td>4</td>\n",
       "      <td>30</td>\n",
       "      <td>5</td>\n",
       "      <td>30</td>\n",
       "      <td>30</td>\n",
       "      <td>30</td>\n",
       "    </tr>\n",
       "    <tr>\n",
       "      <th>prov_2</th>\n",
       "      <th>ind_a</th>\n",
       "      <td>30</td>\n",
       "      <td>30</td>\n",
       "      <td>30</td>\n",
       "      <td>30</td>\n",
       "      <td>6</td>\n",
       "      <td>30</td>\n",
       "    </tr>\n",
       "    <tr>\n",
       "      <th>prov_3</th>\n",
       "      <th>ind_b</th>\n",
       "      <td>30</td>\n",
       "      <td>30</td>\n",
       "      <td>30</td>\n",
       "      <td>50</td>\n",
       "      <td>30</td>\n",
       "      <td>60</td>\n",
       "    </tr>\n",
       "  </tbody>\n",
       "</table>\n",
       "</div>"
      ],
      "text/plain": [
       "                        country2                      \n",
       "year                        2017     2018     2019    \n",
       "country1                       1   2    2   4    3   6\n",
       "data_provider indicator                               \n",
       "prov_1        ind_a            4  30    5  30   30  30\n",
       "prov_2        ind_a           30  30   30  30    6  30\n",
       "prov_3        ind_b           30  30   30  50   30  60"
      ]
     },
     "execution_count": 26,
     "metadata": {},
     "output_type": "execute_result"
    }
   ],
   "source": [
    "newdf = df[condition]\n",
    "newdf"
   ]
  },
  {
   "cell_type": "code",
   "execution_count": 27,
   "id": "53a7b697",
   "metadata": {},
   "outputs": [
    {
     "data": {
      "text/plain": [
       "[('country2', '2017', 2), ('country2', '2018', 2)]"
      ]
     },
     "execution_count": 27,
     "metadata": {},
     "output_type": "execute_result"
    }
   ],
   "source": [
    "collabels.to_list()"
   ]
  },
  {
   "cell_type": "markdown",
   "id": "5110fa4c",
   "metadata": {},
   "source": [
    "# Sort"
   ]
  },
  {
   "cell_type": "markdown",
   "id": "e610be0b",
   "metadata": {},
   "source": [
    "sort values with specified column labels"
   ]
  },
  {
   "cell_type": "code",
   "execution_count": 28,
   "id": "d80c486b",
   "metadata": {},
   "outputs": [
    {
     "data": {
      "text/html": [
       "<div>\n",
       "<style scoped>\n",
       "    .dataframe tbody tr th:only-of-type {\n",
       "        vertical-align: middle;\n",
       "    }\n",
       "\n",
       "    .dataframe tbody tr th {\n",
       "        vertical-align: top;\n",
       "    }\n",
       "\n",
       "    .dataframe thead tr th {\n",
       "        text-align: left;\n",
       "    }\n",
       "\n",
       "    .dataframe thead tr:last-of-type th {\n",
       "        text-align: right;\n",
       "    }\n",
       "</style>\n",
       "<table border=\"1\" class=\"dataframe\">\n",
       "  <thead>\n",
       "    <tr>\n",
       "      <th></th>\n",
       "      <th></th>\n",
       "      <th colspan=\"6\" halign=\"left\">country2</th>\n",
       "    </tr>\n",
       "    <tr>\n",
       "      <th></th>\n",
       "      <th>year</th>\n",
       "      <th colspan=\"2\" halign=\"left\">2017</th>\n",
       "      <th colspan=\"2\" halign=\"left\">2018</th>\n",
       "      <th colspan=\"2\" halign=\"left\">2019</th>\n",
       "    </tr>\n",
       "    <tr>\n",
       "      <th></th>\n",
       "      <th>country1</th>\n",
       "      <th>1</th>\n",
       "      <th>2</th>\n",
       "      <th>2</th>\n",
       "      <th>4</th>\n",
       "      <th>3</th>\n",
       "      <th>6</th>\n",
       "    </tr>\n",
       "    <tr>\n",
       "      <th>data_provider</th>\n",
       "      <th>indicator</th>\n",
       "      <th></th>\n",
       "      <th></th>\n",
       "      <th></th>\n",
       "      <th></th>\n",
       "      <th></th>\n",
       "      <th></th>\n",
       "    </tr>\n",
       "  </thead>\n",
       "  <tbody>\n",
       "    <tr>\n",
       "      <th>prov_2</th>\n",
       "      <th>ind_a</th>\n",
       "      <td>30</td>\n",
       "      <td>30</td>\n",
       "      <td>30</td>\n",
       "      <td>30</td>\n",
       "      <td>6</td>\n",
       "      <td>30</td>\n",
       "    </tr>\n",
       "    <tr>\n",
       "      <th>prov_3</th>\n",
       "      <th>ind_b</th>\n",
       "      <td>30</td>\n",
       "      <td>30</td>\n",
       "      <td>30</td>\n",
       "      <td>50</td>\n",
       "      <td>30</td>\n",
       "      <td>60</td>\n",
       "    </tr>\n",
       "    <tr>\n",
       "      <th>prov_1</th>\n",
       "      <th>ind_a</th>\n",
       "      <td>4</td>\n",
       "      <td>30</td>\n",
       "      <td>5</td>\n",
       "      <td>30</td>\n",
       "      <td>30</td>\n",
       "      <td>30</td>\n",
       "    </tr>\n",
       "  </tbody>\n",
       "</table>\n",
       "</div>"
      ],
      "text/plain": [
       "                        country2                      \n",
       "year                        2017     2018     2019    \n",
       "country1                       1   2    2   4    3   6\n",
       "data_provider indicator                               \n",
       "prov_2        ind_a           30  30   30  30    6  30\n",
       "prov_3        ind_b           30  30   30  50   30  60\n",
       "prov_1        ind_a            4  30    5  30   30  30"
      ]
     },
     "execution_count": 28,
     "metadata": {},
     "output_type": "execute_result"
    }
   ],
   "source": [
    "sortednewdf = newdf.sort_values(collabels.to_list(), ascending=False)\n",
    "sortednewdf"
   ]
  }
 ],
 "metadata": {
  "kernelspec": {
   "display_name": "Python 3 (ipykernel)",
   "language": "python",
   "name": "python3"
  },
  "language_info": {
   "codemirror_mode": {
    "name": "ipython",
    "version": 3
   },
   "file_extension": ".py",
   "mimetype": "text/x-python",
   "name": "python",
   "nbconvert_exporter": "python",
   "pygments_lexer": "ipython3",
   "version": "3.9.7"
  },
  "toc": {
   "base_numbering": 1,
   "nav_menu": {},
   "number_sections": true,
   "sideBar": true,
   "skip_h1_title": false,
   "title_cell": "Table of Contents",
   "title_sidebar": "Contents",
   "toc_cell": false,
   "toc_position": {},
   "toc_section_display": true,
   "toc_window_display": false
  }
 },
 "nbformat": 4,
 "nbformat_minor": 5
}
